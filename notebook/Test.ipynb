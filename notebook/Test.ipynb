{
 "cells": [
  {
   "cell_type": "code",
   "execution_count": 8,
   "id": "366c75c4-c4a0-44ab-9d33-baf5f9006c21",
   "metadata": {},
   "outputs": [
    {
     "name": "stdout",
     "output_type": "stream",
     "text": [
      "Loaded config\n",
      "{'llm': {'groq': {'provider': 'groq', 'model_name': 'deepseek-r1-distill-llama-70b'}}}\n"
     ]
    },
    {
     "data": {
      "text/plain": [
       "{'groq': {'provider': 'groq', 'model_name': 'deepseek-r1-distill-llama-70b'}}"
      ]
     },
     "execution_count": 8,
     "metadata": {},
     "output_type": "execute_result"
    }
   ],
   "source": [
    "import yaml\n",
    "import os\n",
    "\n",
    "def load_config(config_file: str = r\"C:\\Users\\dhanu\\OneDrive\\Desktop\\Repo\\trip_planner\\config\\config.yaml\"):\n",
    "    with open(config_file, \"r\") as f:\n",
    "        config = yaml.safe_load(f)\n",
    "    print(config)\n",
    "    return config\n",
    "\n",
    "\n",
    "class ConfigLoader:\n",
    "    def __init__(self):\n",
    "        print(f\"Loaded config\")\n",
    "        self.config = load_config()\n",
    "\n",
    "    def __getitem__(self, key):\n",
    "        return self.config[key]\n",
    "\n",
    "\n",
    "\n",
    "ConfigLoader()['llm']"
   ]
  }
 ],
 "metadata": {
  "kernelspec": {
   "display_name": "Python [conda env:base] *",
   "language": "python",
   "name": "conda-base-py"
  },
  "language_info": {
   "codemirror_mode": {
    "name": "ipython",
    "version": 3
   },
   "file_extension": ".py",
   "mimetype": "text/x-python",
   "name": "python",
   "nbconvert_exporter": "python",
   "pygments_lexer": "ipython3",
   "version": "3.12.7"
  }
 },
 "nbformat": 4,
 "nbformat_minor": 5
}
